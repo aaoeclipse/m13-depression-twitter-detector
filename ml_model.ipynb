{
 "cells": [
  {
   "cell_type": "markdown",
   "metadata": {},
   "source": [
    "# Depression Detection Model for Twitter Accounts\n",
    "Santiago Paiz\n",
    "\n",
    "Ekaterina Podruzhko\n",
    "\n",
    "Abdullah Al Saidi\n",
    "\n",
    "Hisham Al Hashmi\n",
    "\n"
   ]
  },
  {
   "cell_type": "markdown",
   "metadata": {},
   "source": [
    "# Data Discovery"
   ]
  },
  {
   "cell_type": "code",
   "execution_count": 1,
   "metadata": {},
   "outputs": [],
   "source": [
    "import pandas as pd"
   ]
  },
  {
   "cell_type": "code",
   "execution_count": 2,
   "metadata": {},
   "outputs": [],
   "source": [
    "fighting_dep = pd.read_csv('data/depression/I am fighting depression.csv')\n",
    "suffering_dep = pd.read_csv('data/depression/I suffer from depression.csv')\n",
    "diagnosed_dep = pd.read_csv('data/depression/I am diagnosed with depression.csv')\n",
    "users = pd.read_csv('data/depression/users_timelines.csv')\n"
   ]
  },
  {
   "cell_type": "code",
   "execution_count": 3,
   "metadata": {},
   "outputs": [
    {
     "data": {
      "text/html": [
       "<div>\n",
       "<style scoped>\n",
       "    .dataframe tbody tr th:only-of-type {\n",
       "        vertical-align: middle;\n",
       "    }\n",
       "\n",
       "    .dataframe tbody tr th {\n",
       "        vertical-align: top;\n",
       "    }\n",
       "\n",
       "    .dataframe thead th {\n",
       "        text-align: right;\n",
       "    }\n",
       "</style>\n",
       "<table border=\"1\" class=\"dataframe\">\n",
       "  <thead>\n",
       "    <tr style=\"text-align: right;\">\n",
       "      <th></th>\n",
       "      <th>id</th>\n",
       "      <th>conversation_id</th>\n",
       "      <th>created_at</th>\n",
       "      <th>date</th>\n",
       "      <th>time</th>\n",
       "      <th>timezone</th>\n",
       "      <th>user_id</th>\n",
       "      <th>username</th>\n",
       "      <th>name</th>\n",
       "      <th>place</th>\n",
       "      <th>...</th>\n",
       "      <th>geo</th>\n",
       "      <th>source</th>\n",
       "      <th>user_rt_id</th>\n",
       "      <th>user_rt</th>\n",
       "      <th>retweet_id</th>\n",
       "      <th>reply_to</th>\n",
       "      <th>retweet_date</th>\n",
       "      <th>translate</th>\n",
       "      <th>trans_src</th>\n",
       "      <th>trans_dest</th>\n",
       "    </tr>\n",
       "  </thead>\n",
       "  <tbody>\n",
       "    <tr>\n",
       "      <th>57</th>\n",
       "      <td>1430537144121151496</td>\n",
       "      <td>1430537144121151496</td>\n",
       "      <td>2021-08-25 14:26:47 UTC</td>\n",
       "      <td>2021-08-25</td>\n",
       "      <td>14:26:47</td>\n",
       "      <td>0</td>\n",
       "      <td>1168963714491568128</td>\n",
       "      <td>dbubblegumface</td>\n",
       "      <td>Donkeyboy Bubblegumface</td>\n",
       "      <td>NaN</td>\n",
       "      <td>...</td>\n",
       "      <td>NaN</td>\n",
       "      <td>NaN</td>\n",
       "      <td>NaN</td>\n",
       "      <td>NaN</td>\n",
       "      <td>NaN</td>\n",
       "      <td>[]</td>\n",
       "      <td>NaN</td>\n",
       "      <td>NaN</td>\n",
       "      <td>NaN</td>\n",
       "      <td>NaN</td>\n",
       "    </tr>\n",
       "    <tr>\n",
       "      <th>25</th>\n",
       "      <td>1433196732188332035</td>\n",
       "      <td>1433196106385530880</td>\n",
       "      <td>2021-09-01 22:35:03 UTC</td>\n",
       "      <td>2021-09-01</td>\n",
       "      <td>22:35:03</td>\n",
       "      <td>0</td>\n",
       "      <td>1217528909383839746</td>\n",
       "      <td>agsmaiinthing</td>\n",
       "      <td>soph</td>\n",
       "      <td>NaN</td>\n",
       "      <td>...</td>\n",
       "      <td>NaN</td>\n",
       "      <td>NaN</td>\n",
       "      <td>NaN</td>\n",
       "      <td>NaN</td>\n",
       "      <td>NaN</td>\n",
       "      <td>[{'screen_name': 'madisonbeer', 'name': 'madis...</td>\n",
       "      <td>NaN</td>\n",
       "      <td>NaN</td>\n",
       "      <td>NaN</td>\n",
       "      <td>NaN</td>\n",
       "    </tr>\n",
       "  </tbody>\n",
       "</table>\n",
       "<p>2 rows × 36 columns</p>\n",
       "</div>"
      ],
      "text/plain": [
       "                     id      conversation_id               created_at  \\\n",
       "57  1430537144121151496  1430537144121151496  2021-08-25 14:26:47 UTC   \n",
       "25  1433196732188332035  1433196106385530880  2021-09-01 22:35:03 UTC   \n",
       "\n",
       "          date      time  timezone              user_id        username  \\\n",
       "57  2021-08-25  14:26:47         0  1168963714491568128  dbubblegumface   \n",
       "25  2021-09-01  22:35:03         0  1217528909383839746   agsmaiinthing   \n",
       "\n",
       "                       name  place  ... geo source user_rt_id user_rt  \\\n",
       "57  Donkeyboy Bubblegumface    NaN  ... NaN    NaN        NaN     NaN   \n",
       "25                     soph    NaN  ... NaN    NaN        NaN     NaN   \n",
       "\n",
       "   retweet_id                                           reply_to  \\\n",
       "57        NaN                                                 []   \n",
       "25        NaN  [{'screen_name': 'madisonbeer', 'name': 'madis...   \n",
       "\n",
       "    retweet_date  translate trans_src trans_dest  \n",
       "57           NaN        NaN       NaN        NaN  \n",
       "25           NaN        NaN       NaN        NaN  \n",
       "\n",
       "[2 rows x 36 columns]"
      ]
     },
     "execution_count": 3,
     "metadata": {},
     "output_type": "execute_result"
    }
   ],
   "source": [
    "fighting_dep.sample(2)"
   ]
  },
  {
   "cell_type": "code",
   "execution_count": 4,
   "metadata": {},
   "outputs": [
    {
     "data": {
      "text/html": [
       "<div>\n",
       "<style scoped>\n",
       "    .dataframe tbody tr th:only-of-type {\n",
       "        vertical-align: middle;\n",
       "    }\n",
       "\n",
       "    .dataframe tbody tr th {\n",
       "        vertical-align: top;\n",
       "    }\n",
       "\n",
       "    .dataframe thead th {\n",
       "        text-align: right;\n",
       "    }\n",
       "</style>\n",
       "<table border=\"1\" class=\"dataframe\">\n",
       "  <thead>\n",
       "    <tr style=\"text-align: right;\">\n",
       "      <th></th>\n",
       "      <th>id</th>\n",
       "      <th>conversation_id</th>\n",
       "      <th>created_at</th>\n",
       "      <th>date</th>\n",
       "      <th>time</th>\n",
       "      <th>timezone</th>\n",
       "      <th>user_id</th>\n",
       "      <th>username</th>\n",
       "      <th>name</th>\n",
       "      <th>place</th>\n",
       "      <th>...</th>\n",
       "      <th>geo</th>\n",
       "      <th>source</th>\n",
       "      <th>user_rt_id</th>\n",
       "      <th>user_rt</th>\n",
       "      <th>retweet_id</th>\n",
       "      <th>reply_to</th>\n",
       "      <th>retweet_date</th>\n",
       "      <th>translate</th>\n",
       "      <th>trans_src</th>\n",
       "      <th>trans_dest</th>\n",
       "    </tr>\n",
       "  </thead>\n",
       "  <tbody>\n",
       "    <tr>\n",
       "      <th>25</th>\n",
       "      <td>1434874823537213443</td>\n",
       "      <td>1434870459401744389</td>\n",
       "      <td>2021-09-06 13:43:11 UTC</td>\n",
       "      <td>2021-09-06</td>\n",
       "      <td>13:43:11</td>\n",
       "      <td>0</td>\n",
       "      <td>1252233854401671168</td>\n",
       "      <td>assyjack</td>\n",
       "      <td>Assy Jack</td>\n",
       "      <td>NaN</td>\n",
       "      <td>...</td>\n",
       "      <td>NaN</td>\n",
       "      <td>NaN</td>\n",
       "      <td>NaN</td>\n",
       "      <td>NaN</td>\n",
       "      <td>NaN</td>\n",
       "      <td>[{'screen_name': 'KendraWrites', 'name': 'Kend...</td>\n",
       "      <td>NaN</td>\n",
       "      <td>NaN</td>\n",
       "      <td>NaN</td>\n",
       "      <td>NaN</td>\n",
       "    </tr>\n",
       "    <tr>\n",
       "      <th>527</th>\n",
       "      <td>1432123792109735937</td>\n",
       "      <td>1432123792109735937</td>\n",
       "      <td>2021-08-29 23:31:34 UTC</td>\n",
       "      <td>2021-08-29</td>\n",
       "      <td>23:31:34</td>\n",
       "      <td>0</td>\n",
       "      <td>484986884</td>\n",
       "      <td>stoveraymond</td>\n",
       "      <td>Steve Raymond</td>\n",
       "      <td>NaN</td>\n",
       "      <td>...</td>\n",
       "      <td>NaN</td>\n",
       "      <td>NaN</td>\n",
       "      <td>NaN</td>\n",
       "      <td>NaN</td>\n",
       "      <td>NaN</td>\n",
       "      <td>[]</td>\n",
       "      <td>NaN</td>\n",
       "      <td>NaN</td>\n",
       "      <td>NaN</td>\n",
       "      <td>NaN</td>\n",
       "    </tr>\n",
       "  </tbody>\n",
       "</table>\n",
       "<p>2 rows × 36 columns</p>\n",
       "</div>"
      ],
      "text/plain": [
       "                      id      conversation_id               created_at  \\\n",
       "25   1434874823537213443  1434870459401744389  2021-09-06 13:43:11 UTC   \n",
       "527  1432123792109735937  1432123792109735937  2021-08-29 23:31:34 UTC   \n",
       "\n",
       "           date      time  timezone              user_id      username  \\\n",
       "25   2021-09-06  13:43:11         0  1252233854401671168      assyjack   \n",
       "527  2021-08-29  23:31:34         0            484986884  stoveraymond   \n",
       "\n",
       "              name  place  ... geo source user_rt_id user_rt retweet_id  \\\n",
       "25       Assy Jack    NaN  ... NaN    NaN        NaN     NaN        NaN   \n",
       "527  Steve Raymond    NaN  ... NaN    NaN        NaN     NaN        NaN   \n",
       "\n",
       "                                              reply_to  retweet_date  \\\n",
       "25   [{'screen_name': 'KendraWrites', 'name': 'Kend...           NaN   \n",
       "527                                                 []           NaN   \n",
       "\n",
       "     translate trans_src trans_dest  \n",
       "25         NaN       NaN        NaN  \n",
       "527        NaN       NaN        NaN  \n",
       "\n",
       "[2 rows x 36 columns]"
      ]
     },
     "execution_count": 4,
     "metadata": {},
     "output_type": "execute_result"
    }
   ],
   "source": [
    "suffering_dep.sample(2)"
   ]
  },
  {
   "cell_type": "code",
   "execution_count": 5,
   "metadata": {},
   "outputs": [
    {
     "data": {
      "text/html": [
       "<div>\n",
       "<style scoped>\n",
       "    .dataframe tbody tr th:only-of-type {\n",
       "        vertical-align: middle;\n",
       "    }\n",
       "\n",
       "    .dataframe tbody tr th {\n",
       "        vertical-align: top;\n",
       "    }\n",
       "\n",
       "    .dataframe thead th {\n",
       "        text-align: right;\n",
       "    }\n",
       "</style>\n",
       "<table border=\"1\" class=\"dataframe\">\n",
       "  <thead>\n",
       "    <tr style=\"text-align: right;\">\n",
       "      <th></th>\n",
       "      <th>id</th>\n",
       "      <th>conversation_id</th>\n",
       "      <th>created_at</th>\n",
       "      <th>date</th>\n",
       "      <th>time</th>\n",
       "      <th>timezone</th>\n",
       "      <th>user_id</th>\n",
       "      <th>username</th>\n",
       "      <th>name</th>\n",
       "      <th>place</th>\n",
       "      <th>...</th>\n",
       "      <th>geo</th>\n",
       "      <th>source</th>\n",
       "      <th>user_rt_id</th>\n",
       "      <th>user_rt</th>\n",
       "      <th>retweet_id</th>\n",
       "      <th>reply_to</th>\n",
       "      <th>retweet_date</th>\n",
       "      <th>translate</th>\n",
       "      <th>trans_src</th>\n",
       "      <th>trans_dest</th>\n",
       "    </tr>\n",
       "  </thead>\n",
       "  <tbody>\n",
       "    <tr>\n",
       "      <th>52</th>\n",
       "      <td>1430947902017478660</td>\n",
       "      <td>1430947902017478660</td>\n",
       "      <td>2021-08-26 17:39:00 UTC</td>\n",
       "      <td>2021-08-26</td>\n",
       "      <td>17:39:00</td>\n",
       "      <td>0</td>\n",
       "      <td>26999982</td>\n",
       "      <td>eyeammichael</td>\n",
       "      <td>Eye am RA ☀️</td>\n",
       "      <td>NaN</td>\n",
       "      <td>...</td>\n",
       "      <td>NaN</td>\n",
       "      <td>NaN</td>\n",
       "      <td>NaN</td>\n",
       "      <td>NaN</td>\n",
       "      <td>NaN</td>\n",
       "      <td>[]</td>\n",
       "      <td>NaN</td>\n",
       "      <td>NaN</td>\n",
       "      <td>NaN</td>\n",
       "      <td>NaN</td>\n",
       "    </tr>\n",
       "    <tr>\n",
       "      <th>44</th>\n",
       "      <td>1431707154692526080</td>\n",
       "      <td>1431707129568587777</td>\n",
       "      <td>2021-08-28 19:56:00 UTC</td>\n",
       "      <td>2021-08-28</td>\n",
       "      <td>19:56:00</td>\n",
       "      <td>0</td>\n",
       "      <td>1365908852596563970</td>\n",
       "      <td>bl4rh31mr</td>\n",
       "      <td>Dormant Blauheim</td>\n",
       "      <td>NaN</td>\n",
       "      <td>...</td>\n",
       "      <td>NaN</td>\n",
       "      <td>NaN</td>\n",
       "      <td>NaN</td>\n",
       "      <td>NaN</td>\n",
       "      <td>NaN</td>\n",
       "      <td>[]</td>\n",
       "      <td>NaN</td>\n",
       "      <td>NaN</td>\n",
       "      <td>NaN</td>\n",
       "      <td>NaN</td>\n",
       "    </tr>\n",
       "  </tbody>\n",
       "</table>\n",
       "<p>2 rows × 36 columns</p>\n",
       "</div>"
      ],
      "text/plain": [
       "                     id      conversation_id               created_at  \\\n",
       "52  1430947902017478660  1430947902017478660  2021-08-26 17:39:00 UTC   \n",
       "44  1431707154692526080  1431707129568587777  2021-08-28 19:56:00 UTC   \n",
       "\n",
       "          date      time  timezone              user_id      username  \\\n",
       "52  2021-08-26  17:39:00         0             26999982  eyeammichael   \n",
       "44  2021-08-28  19:56:00         0  1365908852596563970     bl4rh31mr   \n",
       "\n",
       "                name  place  ... geo source user_rt_id user_rt retweet_id  \\\n",
       "52      Eye am RA ☀️    NaN  ... NaN    NaN        NaN     NaN        NaN   \n",
       "44  Dormant Blauheim    NaN  ... NaN    NaN        NaN     NaN        NaN   \n",
       "\n",
       "    reply_to  retweet_date  translate trans_src trans_dest  \n",
       "52        []           NaN        NaN       NaN        NaN  \n",
       "44        []           NaN        NaN       NaN        NaN  \n",
       "\n",
       "[2 rows x 36 columns]"
      ]
     },
     "execution_count": 5,
     "metadata": {},
     "output_type": "execute_result"
    }
   ],
   "source": [
    "diagnosed_dep.sample(2) "
   ]
  },
  {
   "cell_type": "code",
   "execution_count": 6,
   "metadata": {},
   "outputs": [
    {
     "name": "stdout",
     "output_type": "stream",
     "text": [
      "<class 'pandas.core.frame.DataFrame'>\n",
      "RangeIndex: 48895 entries, 0 to 48894\n",
      "Data columns (total 36 columns):\n",
      " #   Column           Non-Null Count  Dtype  \n",
      "---  ------           --------------  -----  \n",
      " 0   id               48895 non-null  int64  \n",
      " 1   conversation_id  48895 non-null  int64  \n",
      " 2   created_at       48895 non-null  object \n",
      " 3   date             48895 non-null  object \n",
      " 4   time             48895 non-null  object \n",
      " 5   timezone         48895 non-null  int64  \n",
      " 6   user_id          48895 non-null  int64  \n",
      " 7   username         48895 non-null  object \n",
      " 8   name             48895 non-null  object \n",
      " 9   place            41 non-null     object \n",
      " 10  tweet            48895 non-null  object \n",
      " 11  language         48895 non-null  object \n",
      " 12  mentions         48895 non-null  object \n",
      " 13  urls             48895 non-null  object \n",
      " 14  photos           48895 non-null  object \n",
      " 15  replies_count    48895 non-null  int64  \n",
      " 16  retweets_count   48895 non-null  int64  \n",
      " 17  likes_count      48895 non-null  int64  \n",
      " 18  hashtags         48895 non-null  object \n",
      " 19  cashtags         48895 non-null  object \n",
      " 20  link             48895 non-null  object \n",
      " 21  retweet          48895 non-null  bool   \n",
      " 22  quote_url        4978 non-null   object \n",
      " 23  video            48895 non-null  int64  \n",
      " 24  thumbnail        5550 non-null   object \n",
      " 25  near             0 non-null      float64\n",
      " 26  geo              0 non-null      float64\n",
      " 27  source           0 non-null      float64\n",
      " 28  user_rt_id       0 non-null      float64\n",
      " 29  user_rt          0 non-null      float64\n",
      " 30  retweet_id       0 non-null      float64\n",
      " 31  reply_to         48895 non-null  object \n",
      " 32  retweet_date     0 non-null      float64\n",
      " 33  translate        0 non-null      float64\n",
      " 34  trans_src        0 non-null      float64\n",
      " 35  trans_dest       0 non-null      float64\n",
      "dtypes: bool(1), float64(10), int64(8), object(17)\n",
      "memory usage: 13.1+ MB\n"
     ]
    }
   ],
   "source": [
    "users.info()"
   ]
  },
  {
   "cell_type": "markdown",
   "metadata": {},
   "source": [
    "# Data Cleaning"
   ]
  },
  {
   "cell_type": "markdown",
   "metadata": {},
   "source": [
    "1. Clean nan columns\n",
    "2. Joining tables of depressed twitters (depressed)\n",
    "3. Add column that represents if the user is depressed. (to the deprssed_df)\n",
    "4. Intersect the depressed dataframe with the users data frame to categorize the depressed with the non depressed.\n",
    "5. Get the final data frame by adding both"
   ]
  },
  {
   "cell_type": "markdown",
   "metadata": {},
   "source": [
    "First of we want to take out all the columns that are completely empty."
   ]
  },
  {
   "cell_type": "markdown",
   "metadata": {},
   "source": [
    "## 1. Clean Nan Columns"
   ]
  },
  {
   "cell_type": "markdown",
   "metadata": {},
   "source": [
    "First we drop all the columns that we know for certain that are null."
   ]
  },
  {
   "cell_type": "code",
   "execution_count": 7,
   "metadata": {},
   "outputs": [
    {
     "data": {
      "text/plain": [
       "id                 False\n",
       "conversation_id    False\n",
       "created_at         False\n",
       "date               False\n",
       "time               False\n",
       "timezone           False\n",
       "user_id            False\n",
       "username           False\n",
       "name               False\n",
       "place              False\n",
       "tweet              False\n",
       "language           False\n",
       "mentions           False\n",
       "urls               False\n",
       "photos             False\n",
       "replies_count      False\n",
       "retweets_count     False\n",
       "likes_count        False\n",
       "hashtags           False\n",
       "cashtags           False\n",
       "link               False\n",
       "retweet            False\n",
       "quote_url          False\n",
       "video              False\n",
       "thumbnail          False\n",
       "near                True\n",
       "geo                 True\n",
       "source              True\n",
       "user_rt_id          True\n",
       "user_rt             True\n",
       "retweet_id          True\n",
       "reply_to           False\n",
       "retweet_date        True\n",
       "translate           True\n",
       "trans_src           True\n",
       "trans_dest          True\n",
       "dtype: bool"
      ]
     },
     "execution_count": 7,
     "metadata": {},
     "output_type": "execute_result"
    }
   ],
   "source": [
    "users.isnull().all()"
   ]
  },
  {
   "cell_type": "code",
   "execution_count": 8,
   "metadata": {},
   "outputs": [],
   "source": [
    "users.dropna(how='all', axis=1, inplace=True)"
   ]
  },
  {
   "cell_type": "code",
   "execution_count": 9,
   "metadata": {},
   "outputs": [],
   "source": [
    "fighting_dep.dropna(how='all', axis=1, inplace=True)\n",
    "suffering_dep.dropna(how='all', axis=1, inplace=True)\n",
    "diagnosed_dep.dropna(how='all', axis=1, inplace=True)"
   ]
  },
  {
   "cell_type": "code",
   "execution_count": 11,
   "metadata": {},
   "outputs": [],
   "source": [
    "assert len(set(fighting_dep).symmetric_difference(set(suffering_dep))) == 0\n",
    "assert len(set(suffering_dep).symmetric_difference(set(diagnosed_dep))) == 0"
   ]
  },
  {
   "cell_type": "markdown",
   "metadata": {},
   "source": [
    "Three of the dataframes have the same schema, the only different dataframe is the users. So we get the difference between the two of them:"
   ]
  },
  {
   "cell_type": "code",
   "execution_count": 12,
   "metadata": {},
   "outputs": [
    {
     "name": "stdout",
     "output_type": "stream",
     "text": [
      "{'place'}\n"
     ]
    }
   ],
   "source": [
    "print(set(diagnosed_dep).symmetric_difference(users))"
   ]
  },
  {
   "cell_type": "markdown",
   "metadata": {},
   "source": [
    "The only difference is that the users dataframe contains information about the place of where "
   ]
  },
  {
   "cell_type": "code",
   "execution_count": 15,
   "metadata": {},
   "outputs": [
    {
     "data": {
      "text/html": [
       "<div>\n",
       "<style scoped>\n",
       "    .dataframe tbody tr th:only-of-type {\n",
       "        vertical-align: middle;\n",
       "    }\n",
       "\n",
       "    .dataframe tbody tr th {\n",
       "        vertical-align: top;\n",
       "    }\n",
       "\n",
       "    .dataframe thead th {\n",
       "        text-align: right;\n",
       "    }\n",
       "</style>\n",
       "<table border=\"1\" class=\"dataframe\">\n",
       "  <thead>\n",
       "    <tr style=\"text-align: right;\">\n",
       "      <th></th>\n",
       "      <th>id</th>\n",
       "      <th>conversation_id</th>\n",
       "      <th>created_at</th>\n",
       "      <th>date</th>\n",
       "      <th>time</th>\n",
       "      <th>timezone</th>\n",
       "      <th>user_id</th>\n",
       "      <th>username</th>\n",
       "      <th>name</th>\n",
       "      <th>place</th>\n",
       "      <th>...</th>\n",
       "      <th>retweets_count</th>\n",
       "      <th>likes_count</th>\n",
       "      <th>hashtags</th>\n",
       "      <th>cashtags</th>\n",
       "      <th>link</th>\n",
       "      <th>retweet</th>\n",
       "      <th>quote_url</th>\n",
       "      <th>video</th>\n",
       "      <th>thumbnail</th>\n",
       "      <th>reply_to</th>\n",
       "    </tr>\n",
       "  </thead>\n",
       "  <tbody>\n",
       "    <tr>\n",
       "      <th>29497</th>\n",
       "      <td>1435217862138941447</td>\n",
       "      <td>1435217862138941447</td>\n",
       "      <td>2021-09-07 12:26:18 UTC</td>\n",
       "      <td>2021-09-07</td>\n",
       "      <td>12:26:18</td>\n",
       "      <td>0</td>\n",
       "      <td>65581806</td>\n",
       "      <td>scott1984fp</td>\n",
       "      <td>Scott1984FP</td>\n",
       "      <td>{'type': 'Point', 'coordinates': [52.13921, -0...</td>\n",
       "      <td>...</td>\n",
       "      <td>1</td>\n",
       "      <td>1</td>\n",
       "      <td>[]</td>\n",
       "      <td>[]</td>\n",
       "      <td>https://twitter.com/Scott1984FP/status/1435217...</td>\n",
       "      <td>False</td>\n",
       "      <td>NaN</td>\n",
       "      <td>0</td>\n",
       "      <td>NaN</td>\n",
       "      <td>[]</td>\n",
       "    </tr>\n",
       "    <tr>\n",
       "      <th>29425</th>\n",
       "      <td>1435284078245203968</td>\n",
       "      <td>1435284078245203968</td>\n",
       "      <td>2021-09-07 16:49:25 UTC</td>\n",
       "      <td>2021-09-07</td>\n",
       "      <td>16:49:25</td>\n",
       "      <td>0</td>\n",
       "      <td>65581806</td>\n",
       "      <td>scott1984fp</td>\n",
       "      <td>Scott1984FP</td>\n",
       "      <td>{'type': 'Point', 'coordinates': [52.13921, -0...</td>\n",
       "      <td>...</td>\n",
       "      <td>0</td>\n",
       "      <td>0</td>\n",
       "      <td>[]</td>\n",
       "      <td>[]</td>\n",
       "      <td>https://twitter.com/Scott1984FP/status/1435284...</td>\n",
       "      <td>False</td>\n",
       "      <td>NaN</td>\n",
       "      <td>0</td>\n",
       "      <td>NaN</td>\n",
       "      <td>[]</td>\n",
       "    </tr>\n",
       "    <tr>\n",
       "      <th>29417</th>\n",
       "      <td>1435313579582967812</td>\n",
       "      <td>1435313579582967812</td>\n",
       "      <td>2021-09-07 18:46:38 UTC</td>\n",
       "      <td>2021-09-07</td>\n",
       "      <td>18:46:38</td>\n",
       "      <td>0</td>\n",
       "      <td>65581806</td>\n",
       "      <td>scott1984fp</td>\n",
       "      <td>Scott1984FP</td>\n",
       "      <td>{'type': 'Point', 'coordinates': [52.13921, -0...</td>\n",
       "      <td>...</td>\n",
       "      <td>0</td>\n",
       "      <td>0</td>\n",
       "      <td>[]</td>\n",
       "      <td>[]</td>\n",
       "      <td>https://twitter.com/Scott1984FP/status/1435313...</td>\n",
       "      <td>False</td>\n",
       "      <td>NaN</td>\n",
       "      <td>0</td>\n",
       "      <td>NaN</td>\n",
       "      <td>[]</td>\n",
       "    </tr>\n",
       "  </tbody>\n",
       "</table>\n",
       "<p>3 rows × 26 columns</p>\n",
       "</div>"
      ],
      "text/plain": [
       "                        id      conversation_id               created_at  \\\n",
       "29497  1435217862138941447  1435217862138941447  2021-09-07 12:26:18 UTC   \n",
       "29425  1435284078245203968  1435284078245203968  2021-09-07 16:49:25 UTC   \n",
       "29417  1435313579582967812  1435313579582967812  2021-09-07 18:46:38 UTC   \n",
       "\n",
       "             date      time  timezone   user_id     username         name  \\\n",
       "29497  2021-09-07  12:26:18         0  65581806  scott1984fp  Scott1984FP   \n",
       "29425  2021-09-07  16:49:25         0  65581806  scott1984fp  Scott1984FP   \n",
       "29417  2021-09-07  18:46:38         0  65581806  scott1984fp  Scott1984FP   \n",
       "\n",
       "                                                   place  ... retweets_count  \\\n",
       "29497  {'type': 'Point', 'coordinates': [52.13921, -0...  ...              1   \n",
       "29425  {'type': 'Point', 'coordinates': [52.13921, -0...  ...              0   \n",
       "29417  {'type': 'Point', 'coordinates': [52.13921, -0...  ...              0   \n",
       "\n",
       "      likes_count hashtags cashtags  \\\n",
       "29497           1       []       []   \n",
       "29425           0       []       []   \n",
       "29417           0       []       []   \n",
       "\n",
       "                                                    link  retweet  quote_url  \\\n",
       "29497  https://twitter.com/Scott1984FP/status/1435217...    False        NaN   \n",
       "29425  https://twitter.com/Scott1984FP/status/1435284...    False        NaN   \n",
       "29417  https://twitter.com/Scott1984FP/status/1435313...    False        NaN   \n",
       "\n",
       "       video thumbnail reply_to  \n",
       "29497      0       NaN       []  \n",
       "29425      0       NaN       []  \n",
       "29417      0       NaN       []  \n",
       "\n",
       "[3 rows x 26 columns]"
      ]
     },
     "execution_count": 15,
     "metadata": {},
     "output_type": "execute_result"
    }
   ],
   "source": [
    "users[users['place'].isnull() == False].sample(3)"
   ]
  },
  {
   "cell_type": "markdown",
   "metadata": {},
   "source": [
    "## 2. Joining tables"
   ]
  },
  {
   "cell_type": "code",
   "execution_count": 22,
   "metadata": {},
   "outputs": [],
   "source": [
    "depressed = pd.concat([fighting_dep, suffering_dep, diagnosed_dep], ignore_index=True)"
   ]
  },
  {
   "cell_type": "markdown",
   "metadata": {},
   "source": [
    "## 3. Add column that represents if the user is depressed"
   ]
  },
  {
   "cell_type": "code",
   "execution_count": 37,
   "metadata": {},
   "outputs": [],
   "source": [
    "depressed['Depressed'] = 1"
   ]
  },
  {
   "cell_type": "markdown",
   "metadata": {},
   "source": [
    "## 4. Intersect the depressed dataframe with the users data frame to categorize the depressed with the non depressed."
   ]
  },
  {
   "cell_type": "code",
   "execution_count": 38,
   "metadata": {},
   "outputs": [],
   "source": [
    "intersection = set(depressed['user_id'].values).intersection(set(users['user_id'].values))"
   ]
  },
  {
   "cell_type": "code",
   "execution_count": 39,
   "metadata": {},
   "outputs": [],
   "source": [
    "def add_depression(row):\n",
    "    if row['user_id'] in intersection:\n",
    "        return 1\n",
    "    return 0"
   ]
  },
  {
   "cell_type": "code",
   "execution_count": 40,
   "metadata": {},
   "outputs": [],
   "source": [
    "users['Depressed'] = users.apply(add_depression, axis=1)"
   ]
  },
  {
   "cell_type": "markdown",
   "metadata": {},
   "source": [
    "## 5. Get the final data frame by adding both"
   ]
  },
  {
   "cell_type": "code",
   "execution_count": 42,
   "metadata": {},
   "outputs": [],
   "source": [
    "complete_df = pd.concat([depressed, users], ignore_index=True)"
   ]
  },
  {
   "cell_type": "code",
   "execution_count": 48,
   "metadata": {},
   "outputs": [
    {
     "data": {
      "text/html": [
       "<div>\n",
       "<style scoped>\n",
       "    .dataframe tbody tr th:only-of-type {\n",
       "        vertical-align: middle;\n",
       "    }\n",
       "\n",
       "    .dataframe tbody tr th {\n",
       "        vertical-align: top;\n",
       "    }\n",
       "\n",
       "    .dataframe thead th {\n",
       "        text-align: right;\n",
       "    }\n",
       "</style>\n",
       "<table border=\"1\" class=\"dataframe\">\n",
       "  <thead>\n",
       "    <tr style=\"text-align: right;\">\n",
       "      <th></th>\n",
       "      <th>id</th>\n",
       "    </tr>\n",
       "    <tr>\n",
       "      <th>Depressed</th>\n",
       "      <th></th>\n",
       "    </tr>\n",
       "  </thead>\n",
       "  <tbody>\n",
       "    <tr>\n",
       "      <th>0</th>\n",
       "      <td>8694</td>\n",
       "    </tr>\n",
       "    <tr>\n",
       "      <th>1</th>\n",
       "      <td>40893</td>\n",
       "    </tr>\n",
       "  </tbody>\n",
       "</table>\n",
       "</div>"
      ],
      "text/plain": [
       "              id\n",
       "Depressed       \n",
       "0           8694\n",
       "1          40893"
      ]
     },
     "execution_count": 48,
     "metadata": {},
     "output_type": "execute_result"
    }
   ],
   "source": [
    "complete_df[['Depressed', 'id']].groupby('Depressed').count()"
   ]
  }
 ],
 "metadata": {
  "kernelspec": {
   "display_name": "Python 3.9.7 ('ml_model_env': venv)",
   "language": "python",
   "name": "python3"
  },
  "language_info": {
   "codemirror_mode": {
    "name": "ipython",
    "version": 3
   },
   "file_extension": ".py",
   "mimetype": "text/x-python",
   "name": "python",
   "nbconvert_exporter": "python",
   "pygments_lexer": "ipython3",
   "version": "3.9.7"
  },
  "orig_nbformat": 4,
  "vscode": {
   "interpreter": {
    "hash": "5b8ca6201ae4462137b17dfbba56dae4bc3de67c36a81b774b87464d0ec76df8"
   }
  }
 },
 "nbformat": 4,
 "nbformat_minor": 2
}
