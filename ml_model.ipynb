{
 "cells": [
  {
   "cell_type": "markdown",
   "metadata": {},
   "source": [
    "# Depression Detection Model for Twitter Accounts\n",
    "Santiago Paiz\n",
    "\n",
    "Ekaterina Podruzhko\n",
    "\n",
    "Abdullah Al Saidi\n",
    "\n",
    "Hisham Al Hashmi\n",
    "\n"
   ]
  }
 ],
 "metadata": {
  "kernelspec": {
   "display_name": "Python 3.9.7 ('ml_model_env': venv)",
   "language": "python",
   "name": "python3"
  },
  "language_info": {
   "codemirror_mode": {
    "name": "ipython",
    "version": 3
   },
   "file_extension": ".py",
   "mimetype": "text/x-python",
   "name": "python",
   "nbconvert_exporter": "python",
   "pygments_lexer": "ipython3",
   "version": "3.9.7"
  },
  "orig_nbformat": 4,
  "vscode": {
   "interpreter": {
    "hash": "5b8ca6201ae4462137b17dfbba56dae4bc3de67c36a81b774b87464d0ec76df8"
   }
  }
 },
 "nbformat": 4,
 "nbformat_minor": 2
}
